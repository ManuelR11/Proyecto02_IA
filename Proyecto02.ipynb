{
 "cells": [
  {
   "cell_type": "markdown",
   "metadata": {},
   "source": [
    "# Proyecto 02\n",
    "## Inteligencia Artificial\n",
    "\n",
    "Manuel Rodas 215009"
   ]
  },
  {
   "cell_type": "code",
   "execution_count": 112,
   "metadata": {},
   "outputs": [],
   "source": [
    "import pandas as pd\n",
    "import numpy as np\n",
    "import matplotlib.pyplot as plt\n",
    "import seaborn as sns\n",
    "from sklearn.preprocessing import StandardScaler\n",
    "from sklearn.decomposition import PCA\n",
    "\n"
   ]
  },
  {
   "cell_type": "code",
   "execution_count": 113,
   "metadata": {},
   "outputs": [
    {
     "data": {
      "text/html": [
       "<div>\n",
       "<style scoped>\n",
       "    .dataframe tbody tr th:only-of-type {\n",
       "        vertical-align: middle;\n",
       "    }\n",
       "\n",
       "    .dataframe tbody tr th {\n",
       "        vertical-align: top;\n",
       "    }\n",
       "\n",
       "    .dataframe thead th {\n",
       "        text-align: right;\n",
       "    }\n",
       "</style>\n",
       "<table border=\"1\" class=\"dataframe\">\n",
       "  <thead>\n",
       "    <tr style=\"text-align: right;\">\n",
       "      <th></th>\n",
       "      <th>type</th>\n",
       "      <th>Message</th>\n",
       "    </tr>\n",
       "  </thead>\n",
       "  <tbody>\n",
       "    <tr>\n",
       "      <th>0</th>\n",
       "      <td>ham</td>\n",
       "      <td>Go until jurong point, crazy.. Available only ...</td>\n",
       "    </tr>\n",
       "    <tr>\n",
       "      <th>1</th>\n",
       "      <td>ham</td>\n",
       "      <td>Ok lar... Joking wif u oni...</td>\n",
       "    </tr>\n",
       "    <tr>\n",
       "      <th>2</th>\n",
       "      <td>spam</td>\n",
       "      <td>Free entry in 2 a wkly comp to win FA Cup fina...</td>\n",
       "    </tr>\n",
       "    <tr>\n",
       "      <th>3</th>\n",
       "      <td>ham</td>\n",
       "      <td>U dun say so early hor... U c already then say...</td>\n",
       "    </tr>\n",
       "    <tr>\n",
       "      <th>4</th>\n",
       "      <td>ham</td>\n",
       "      <td>Nah I don't think he goes to usf, he lives aro...</td>\n",
       "    </tr>\n",
       "  </tbody>\n",
       "</table>\n",
       "</div>"
      ],
      "text/plain": [
       "   type                                            Message\n",
       "0   ham  Go until jurong point, crazy.. Available only ...\n",
       "1   ham                      Ok lar... Joking wif u oni...\n",
       "2  spam  Free entry in 2 a wkly comp to win FA Cup fina...\n",
       "3   ham  U dun say so early hor... U c already then say...\n",
       "4   ham  Nah I don't think he goes to usf, he lives aro..."
      ]
     },
     "execution_count": 113,
     "metadata": {},
     "output_type": "execute_result"
    }
   ],
   "source": [
    "# Leer el archivo CSV\n",
    "df = pd.read_csv('spam-2.csv', quotechar='\"', skipinitialspace=True)\n",
    "\n",
    "# Eliminar las últimas tres columnas\n",
    "df = df.drop(df.columns[-3:], axis=1)\n",
    "\n",
    "df.head()"
   ]
  },
  {
   "cell_type": "code",
   "execution_count": 114,
   "metadata": {},
   "outputs": [
    {
     "name": "stdout",
     "output_type": "stream",
     "text": [
      "Index(['type', 'Message'], dtype='object')\n"
     ]
    }
   ],
   "source": [
    "print(df.columns)"
   ]
  },
  {
   "cell_type": "code",
   "execution_count": 115,
   "metadata": {},
   "outputs": [
    {
     "data": {
      "text/plain": [
       "type\n",
       "ham     [Go until jurong point, crazy.. Available only...\n",
       "spam    [Free entry in 2 a wkly comp to win FA Cup fin...\n",
       "Name: texts, dtype: object"
      ]
     },
     "execution_count": 115,
     "metadata": {},
     "output_type": "execute_result"
    }
   ],
   "source": [
    "def group_by_type(df):\n",
    "    grouped = df.groupby('type')['Message'].apply(list).rename('texts')\n",
    "\n",
    "    return grouped\n",
    "\n",
    "grouped_df = group_by_type(df)\n",
    "grouped_df"
   ]
  },
  {
   "cell_type": "code",
   "execution_count": 116,
   "metadata": {},
   "outputs": [
    {
     "data": {
      "text/html": [
       "<div>\n",
       "<style scoped>\n",
       "    .dataframe tbody tr th:only-of-type {\n",
       "        vertical-align: middle;\n",
       "    }\n",
       "\n",
       "    .dataframe tbody tr th {\n",
       "        vertical-align: top;\n",
       "    }\n",
       "\n",
       "    .dataframe thead th {\n",
       "        text-align: right;\n",
       "    }\n",
       "</style>\n",
       "<table border=\"1\" class=\"dataframe\">\n",
       "  <thead>\n",
       "    <tr style=\"text-align: right;\">\n",
       "      <th></th>\n",
       "      <th>type</th>\n",
       "      <th>texts</th>\n",
       "    </tr>\n",
       "  </thead>\n",
       "  <tbody>\n",
       "    <tr>\n",
       "      <th>0</th>\n",
       "      <td>ham</td>\n",
       "      <td>[Go until jurong point, crazy.. Available only...</td>\n",
       "    </tr>\n",
       "    <tr>\n",
       "      <th>1</th>\n",
       "      <td>spam</td>\n",
       "      <td>[Free entry in 2 a wkly comp to win FA Cup fin...</td>\n",
       "    </tr>\n",
       "  </tbody>\n",
       "</table>\n",
       "</div>"
      ],
      "text/plain": [
       "   type                                              texts\n",
       "0   ham  [Go until jurong point, crazy.. Available only...\n",
       "1  spam  [Free entry in 2 a wkly comp to win FA Cup fin..."
      ]
     },
     "execution_count": 116,
     "metadata": {},
     "output_type": "execute_result"
    }
   ],
   "source": [
    "\n",
    "table_df = grouped_df.reset_index()\n",
    "\n",
    "table_df"
   ]
  },
  {
   "cell_type": "code",
   "execution_count": 117,
   "metadata": {},
   "outputs": [
    {
     "data": {
      "text/html": [
       "<div>\n",
       "<style scoped>\n",
       "    .dataframe tbody tr th:only-of-type {\n",
       "        vertical-align: middle;\n",
       "    }\n",
       "\n",
       "    .dataframe tbody tr th {\n",
       "        vertical-align: top;\n",
       "    }\n",
       "\n",
       "    .dataframe thead th {\n",
       "        text-align: right;\n",
       "    }\n",
       "</style>\n",
       "<table border=\"1\" class=\"dataframe\">\n",
       "  <thead>\n",
       "    <tr style=\"text-align: right;\">\n",
       "      <th>type</th>\n",
       "      <th>ham</th>\n",
       "      <th>spam</th>\n",
       "    </tr>\n",
       "  </thead>\n",
       "  <tbody>\n",
       "    <tr>\n",
       "      <th>0</th>\n",
       "      <td>Go until jurong point, crazy.. Available only ...</td>\n",
       "      <td>Free entry in 2 a wkly comp to win FA Cup fina...</td>\n",
       "    </tr>\n",
       "    <tr>\n",
       "      <th>1</th>\n",
       "      <td>Ok lar... Joking wif u oni...</td>\n",
       "      <td>FreeMsg Hey there darling it's been 3 week's n...</td>\n",
       "    </tr>\n",
       "    <tr>\n",
       "      <th>2</th>\n",
       "      <td>U dun say so early hor... U c already then say...</td>\n",
       "      <td>WINNER!! As a valued network customer you have...</td>\n",
       "    </tr>\n",
       "    <tr>\n",
       "      <th>3</th>\n",
       "      <td>Nah I don't think he goes to usf, he lives aro...</td>\n",
       "      <td>Had your mobile 11 months or more? U R entitle...</td>\n",
       "    </tr>\n",
       "    <tr>\n",
       "      <th>4</th>\n",
       "      <td>Even my brother is not like to speak with me. ...</td>\n",
       "      <td>SIX chances to win CASH! From 100 to 20,000 po...</td>\n",
       "    </tr>\n",
       "    <tr>\n",
       "      <th>...</th>\n",
       "      <td>...</td>\n",
       "      <td>...</td>\n",
       "    </tr>\n",
       "    <tr>\n",
       "      <th>4820</th>\n",
       "      <td>Huh y lei...</td>\n",
       "      <td>NaN</td>\n",
       "    </tr>\n",
       "    <tr>\n",
       "      <th>4821</th>\n",
       "      <td>Will �_ b going to esplanade fr home?</td>\n",
       "      <td>NaN</td>\n",
       "    </tr>\n",
       "    <tr>\n",
       "      <th>4822</th>\n",
       "      <td>Pity, * was in mood for that. So...any other s...</td>\n",
       "      <td>NaN</td>\n",
       "    </tr>\n",
       "    <tr>\n",
       "      <th>4823</th>\n",
       "      <td>The guy did some bitching but I acted like i'd...</td>\n",
       "      <td>NaN</td>\n",
       "    </tr>\n",
       "    <tr>\n",
       "      <th>4824</th>\n",
       "      <td>Rofl. Its true to its name</td>\n",
       "      <td>NaN</td>\n",
       "    </tr>\n",
       "  </tbody>\n",
       "</table>\n",
       "<p>4825 rows × 2 columns</p>\n",
       "</div>"
      ],
      "text/plain": [
       "type                                                ham  \\\n",
       "0     Go until jurong point, crazy.. Available only ...   \n",
       "1                         Ok lar... Joking wif u oni...   \n",
       "2     U dun say so early hor... U c already then say...   \n",
       "3     Nah I don't think he goes to usf, he lives aro...   \n",
       "4     Even my brother is not like to speak with me. ...   \n",
       "...                                                 ...   \n",
       "4820                                       Huh y lei...   \n",
       "4821              Will �_ b going to esplanade fr home?   \n",
       "4822  Pity, * was in mood for that. So...any other s...   \n",
       "4823  The guy did some bitching but I acted like i'd...   \n",
       "4824                         Rofl. Its true to its name   \n",
       "\n",
       "type                                               spam  \n",
       "0     Free entry in 2 a wkly comp to win FA Cup fina...  \n",
       "1     FreeMsg Hey there darling it's been 3 week's n...  \n",
       "2     WINNER!! As a valued network customer you have...  \n",
       "3     Had your mobile 11 months or more? U R entitle...  \n",
       "4     SIX chances to win CASH! From 100 to 20,000 po...  \n",
       "...                                                 ...  \n",
       "4820                                                NaN  \n",
       "4821                                                NaN  \n",
       "4822                                                NaN  \n",
       "4823                                                NaN  \n",
       "4824                                                NaN  \n",
       "\n",
       "[4825 rows x 2 columns]"
      ]
     },
     "execution_count": 117,
     "metadata": {},
     "output_type": "execute_result"
    }
   ],
   "source": [
    "def group_by_type(df):\n",
    "    grouped = df.groupby('type')['Message'].apply(list)\n",
    "\n",
    "    grouped_df = grouped.apply(pd.Series).T\n",
    "\n",
    "    return grouped_df\n",
    "\n",
    "grouped_df = group_by_type(df)\n",
    "grouped_df"
   ]
  },
  {
   "cell_type": "code",
   "execution_count": 118,
   "metadata": {},
   "outputs": [
    {
     "data": {
      "image/png": "[encoded data removed]",
      "text/plain": [
       "<Figure size 640x480 with 1 Axes>"
      ]
     },
     "metadata": {},
     "output_type": "display_data"
    }
   ],
   "source": [
    "\n",
    "sns.countplot(data=df, x='type')\n",
    "plt.show()\n"
   ]
  },
  {
   "cell_type": "code",
   "execution_count": 119,
   "metadata": {},
   "outputs": [
    {
     "data": {
      "image/png": "[encoded data removed]",
      "text/plain": [
       "<Figure size 640x480 with 1 Axes>"
      ]
     },
     "metadata": {},
     "output_type": "display_data"
    }
   ],
   "source": [
    "\n",
    "df['length'] = df['Message'].apply(len)\n",
    "sns.histplot(data=df, x='length', hue='type', bins=50)\n",
    "plt.show()"
   ]
  },
  {
   "cell_type": "code",
   "execution_count": 120,
   "metadata": {},
   "outputs": [
    {
     "data": {
      "image/png": "[encoded data removed]",
      "text/plain": [
       "<Figure size 640x480 with 1 Axes>"
      ]
     },
     "metadata": {},
     "output_type": "display_data"
    }
   ],
   "source": [
    "\n",
    "sns.boxplot(data=df, x='type', y='length')\n",
    "plt.show()"
   ]
  },
  {
   "cell_type": "code",
   "execution_count": 121,
   "metadata": {},
   "outputs": [
    {
     "data": {
      "text/html": [
       "<div>\n",
       "<style scoped>\n",
       "    .dataframe tbody tr th:only-of-type {\n",
       "        vertical-align: middle;\n",
       "    }\n",
       "\n",
       "    .dataframe tbody tr th {\n",
       "        vertical-align: top;\n",
       "    }\n",
       "\n",
       "    .dataframe thead th {\n",
       "        text-align: right;\n",
       "    }\n",
       "</style>\n",
       "<table border=\"1\" class=\"dataframe\">\n",
       "  <thead>\n",
       "    <tr style=\"text-align: right;\">\n",
       "      <th>type</th>\n",
       "      <th>ham</th>\n",
       "      <th>spam</th>\n",
       "    </tr>\n",
       "  </thead>\n",
       "  <tbody>\n",
       "    <tr>\n",
       "      <th>0</th>\n",
       "      <td>Go jurong point crazy Available bugis n great ...</td>\n",
       "      <td>Free entry 2 wkly comp win FA Cup final tkts 2...</td>\n",
       "    </tr>\n",
       "    <tr>\n",
       "      <th>1</th>\n",
       "      <td>Ok lar Joking wif u oni</td>\n",
       "      <td>FreeMsg Hey darling 3 weeks word back Id like ...</td>\n",
       "    </tr>\n",
       "    <tr>\n",
       "      <th>2</th>\n",
       "      <td>U dun say early hor U c already say</td>\n",
       "      <td>WINNER valued network customer selected receiv...</td>\n",
       "    </tr>\n",
       "    <tr>\n",
       "      <th>3</th>\n",
       "      <td>Nah dont think goes usf lives around though</td>\n",
       "      <td>mobile 11 months U R entitled Update latest co...</td>\n",
       "    </tr>\n",
       "    <tr>\n",
       "      <th>4</th>\n",
       "      <td>Even brother like speak treat like aids patent</td>\n",
       "      <td>SIX chances win CASH 100 20000 pounds txt CSH1...</td>\n",
       "    </tr>\n",
       "    <tr>\n",
       "      <th>...</th>\n",
       "      <td>...</td>\n",
       "      <td>...</td>\n",
       "    </tr>\n",
       "    <tr>\n",
       "      <th>4820</th>\n",
       "      <td>Huh lei</td>\n",
       "      <td>NaN</td>\n",
       "    </tr>\n",
       "    <tr>\n",
       "      <th>4821</th>\n",
       "      <td>� b going esplanade fr home</td>\n",
       "      <td>NaN</td>\n",
       "    </tr>\n",
       "    <tr>\n",
       "      <th>4822</th>\n",
       "      <td>Pity mood Soany suggestions</td>\n",
       "      <td>NaN</td>\n",
       "    </tr>\n",
       "    <tr>\n",
       "      <th>4823</th>\n",
       "      <td>guy bitching acted like id interested buying s...</td>\n",
       "      <td>NaN</td>\n",
       "    </tr>\n",
       "    <tr>\n",
       "      <th>4824</th>\n",
       "      <td>Rofl true name</td>\n",
       "      <td>NaN</td>\n",
       "    </tr>\n",
       "  </tbody>\n",
       "</table>\n",
       "<p>4825 rows × 2 columns</p>\n",
       "</div>"
      ],
      "text/plain": [
       "type                                                ham  \\\n",
       "0     Go jurong point crazy Available bugis n great ...   \n",
       "1                               Ok lar Joking wif u oni   \n",
       "2                   U dun say early hor U c already say   \n",
       "3           Nah dont think goes usf lives around though   \n",
       "4        Even brother like speak treat like aids patent   \n",
       "...                                                 ...   \n",
       "4820                                            Huh lei   \n",
       "4821                        � b going esplanade fr home   \n",
       "4822                        Pity mood Soany suggestions   \n",
       "4823  guy bitching acted like id interested buying s...   \n",
       "4824                                     Rofl true name   \n",
       "\n",
       "type                                               spam  \n",
       "0     Free entry 2 wkly comp win FA Cup final tkts 2...  \n",
       "1     FreeMsg Hey darling 3 weeks word back Id like ...  \n",
       "2     WINNER valued network customer selected receiv...  \n",
       "3     mobile 11 months U R entitled Update latest co...  \n",
       "4     SIX chances win CASH 100 20000 pounds txt CSH1...  \n",
       "...                                                 ...  \n",
       "4820                                                NaN  \n",
       "4821                                                NaN  \n",
       "4822                                                NaN  \n",
       "4823                                                NaN  \n",
       "4824                                                NaN  \n",
       "\n",
       "[4825 rows x 2 columns]"
      ]
     },
     "execution_count": 121,
     "metadata": {},
     "output_type": "execute_result"
    }
   ],
   "source": [
    "\n",
    "import string\n",
    "from nltk.corpus import stopwords\n",
    "\n",
    "def text_process(text):\n",
    "    # Eliminar signos de puntuación\n",
    "    nopunc = [char for char in text if char not in string.punctuation]\n",
    "    nopunc = ''.join(nopunc)\n",
    "\n",
    "    # Eliminar stopwords\n",
    "    return ' '.join([word for word in nopunc.split() if word.lower() not in stopwords.words('english')])\n",
    "\n",
    "df['Message'] = df['Message'].apply(text_process)\n",
    "\n",
    "grouped_df = group_by_type(df)\n",
    "grouped_df\n"
   ]
  },
  {
   "cell_type": "code",
   "execution_count": 122,
   "metadata": {},
   "outputs": [
    {
     "name": "stderr",
     "output_type": "stream",
     "text": [
      "C:\\Users\\rodas\\AppData\\Local\\Temp\\ipykernel_17364\\270368124.py:32: SettingWithCopyWarning: \n",
      "A value is trying to be set on a copy of a slice from a DataFrame\n",
      "\n",
      "See the caveats in the documentation: https://pandas.pydata.org/pandas-docs/stable/user_guide/indexing.html#returning-a-view-versus-a-copy\n",
      "  column[:] = preprocessed_column.values\n"
     ]
    },
    {
     "data": {
      "text/html": [
       "<div>\n",
       "<style scoped>\n",
       "    .dataframe tbody tr th:only-of-type {\n",
       "        vertical-align: middle;\n",
       "    }\n",
       "\n",
       "    .dataframe tbody tr th {\n",
       "        vertical-align: top;\n",
       "    }\n",
       "\n",
       "    .dataframe thead th {\n",
       "        text-align: right;\n",
       "    }\n",
       "</style>\n",
       "<table border=\"1\" class=\"dataframe\">\n",
       "  <thead>\n",
       "    <tr style=\"text-align: right;\">\n",
       "      <th>type</th>\n",
       "      <th>ham</th>\n",
       "      <th>spam</th>\n",
       "    </tr>\n",
       "  </thead>\n",
       "  <tbody>\n",
       "    <tr>\n",
       "      <th>0</th>\n",
       "      <td>go jurong point crazi avail bugi n great world...</td>\n",
       "      <td>free entri 2 wkli comp win fa cup final tkt 21...</td>\n",
       "    </tr>\n",
       "    <tr>\n",
       "      <th>1</th>\n",
       "      <td>ok lar joke wif u oni</td>\n",
       "      <td>freemsg hey darl 3 week word back id like fun ...</td>\n",
       "    </tr>\n",
       "    <tr>\n",
       "      <th>2</th>\n",
       "      <td>u dun say earli hor u c alreadi say</td>\n",
       "      <td>winner valu network custom select receivea 900...</td>\n",
       "    </tr>\n",
       "    <tr>\n",
       "      <th>3</th>\n",
       "      <td>nah dont think go usf life around though</td>\n",
       "      <td>mobil 11 month u r entitl updat latest colour ...</td>\n",
       "    </tr>\n",
       "    <tr>\n",
       "      <th>4</th>\n",
       "      <td>even brother like speak treat like aid patent</td>\n",
       "      <td>six chanc win cash 100 20000 pound txt csh11 s...</td>\n",
       "    </tr>\n",
       "    <tr>\n",
       "      <th>...</th>\n",
       "      <td>...</td>\n",
       "      <td>...</td>\n",
       "    </tr>\n",
       "    <tr>\n",
       "      <th>4820</th>\n",
       "      <td>huh lei</td>\n",
       "      <td>NaN</td>\n",
       "    </tr>\n",
       "    <tr>\n",
       "      <th>4821</th>\n",
       "      <td>b go esplanad fr home</td>\n",
       "      <td>NaN</td>\n",
       "    </tr>\n",
       "    <tr>\n",
       "      <th>4822</th>\n",
       "      <td>piti mood soani suggest</td>\n",
       "      <td>NaN</td>\n",
       "    </tr>\n",
       "    <tr>\n",
       "      <th>4823</th>\n",
       "      <td>guy bitch act like id interest buy someth els ...</td>\n",
       "      <td>NaN</td>\n",
       "    </tr>\n",
       "    <tr>\n",
       "      <th>4824</th>\n",
       "      <td>rofl true name</td>\n",
       "      <td>NaN</td>\n",
       "    </tr>\n",
       "  </tbody>\n",
       "</table>\n",
       "<p>4825 rows × 2 columns</p>\n",
       "</div>"
      ],
      "text/plain": [
       "type                                                ham  \\\n",
       "0     go jurong point crazi avail bugi n great world...   \n",
       "1                                 ok lar joke wif u oni   \n",
       "2                   u dun say earli hor u c alreadi say   \n",
       "3              nah dont think go usf life around though   \n",
       "4         even brother like speak treat like aid patent   \n",
       "...                                                 ...   \n",
       "4820                                            huh lei   \n",
       "4821                              b go esplanad fr home   \n",
       "4822                            piti mood soani suggest   \n",
       "4823  guy bitch act like id interest buy someth els ...   \n",
       "4824                                     rofl true name   \n",
       "\n",
       "type                                               spam  \n",
       "0     free entri 2 wkli comp win fa cup final tkt 21...  \n",
       "1     freemsg hey darl 3 week word back id like fun ...  \n",
       "2     winner valu network custom select receivea 900...  \n",
       "3     mobil 11 month u r entitl updat latest colour ...  \n",
       "4     six chanc win cash 100 20000 pound txt csh11 s...  \n",
       "...                                                 ...  \n",
       "4820                                                NaN  \n",
       "4821                                                NaN  \n",
       "4822                                                NaN  \n",
       "4823                                                NaN  \n",
       "4824                                                NaN  \n",
       "\n",
       "[4825 rows x 2 columns]"
      ]
     },
     "execution_count": 122,
     "metadata": {},
     "output_type": "execute_result"
    }
   ],
   "source": [
    "#lemmetization y stemming \n",
    "import nltk\n",
    "from nltk.stem import WordNetLemmatizer\n",
    "from nltk.stem import PorterStemmer\n",
    "import re\n",
    "\n",
    "stemmer = PorterStemmer()\n",
    "lemmatizer = WordNetLemmatizer()\n",
    "stop_words = set(stopwords.words('english'))\n",
    "\n",
    "def preprocess_message(message):\n",
    "    message = message.lower()\n",
    "\n",
    "    message = message.replace('�', '')\n",
    "\n",
    "    words = message.split()\n",
    "\n",
    "    words = [re.sub(r'[^a-zA-Z0-9]', '', word) for word in words if word not in stop_words]\n",
    "\n",
    "    words = [lemmatizer.lemmatize(word) for word in words]\n",
    "\n",
    "    words = [stemmer.stem(word) for word in words]\n",
    "\n",
    "    words = [word for word in words if not re.match(r'^\\W+$', word)]\n",
    "\n",
    "    processed_message = ' '.join(words)\n",
    "\n",
    "    return processed_message\n",
    "\n",
    "def preprocess_column(column):\n",
    "    preprocessed_column = column.apply(preprocess_message)\n",
    "    column[:] = preprocessed_column.values\n",
    "    return column\n",
    "\n",
    "preprocess_column(df['Message'])\n",
    "\n",
    "grouped_df_final = group_by_type(df)\n",
    "grouped_df_final"
   ]
  },
  {
   "cell_type": "code",
   "execution_count": 123,
   "metadata": {},
   "outputs": [
    {
     "name": "stdout",
     "output_type": "stream",
     "text": [
      "Index(['ham', 'spam'], dtype='object', name='type')\n"
     ]
    }
   ],
   "source": [
    "print(grouped_df_final.columns)"
   ]
  },
  {
   "cell_type": "code",
   "execution_count": 124,
   "metadata": {},
   "outputs": [
    {
     "name": "stdout",
     "output_type": "stream",
     "text": [
      "Probabilidad de que el mensaje sea SPAM dado que contiene '': 0.05555555555555555\n",
      "Probabilidad de que el mensaje sea HAM dado que contiene '': 0.9444444444444444\n"
     ]
    }
   ],
   "source": [
    "\n",
    "def probabilidad_spam(grouped_df, word):\n",
    "    # Calcular el total de mensajes SPAM y HAM\n",
    "    spam_messages = grouped_df['spam'].dropna()\n",
    "    ham_messages = grouped_df['ham'].dropna()\n",
    "    total_messages = spam_messages.shape[0] + ham_messages.shape[0]\n",
    "\n",
    "    p_spam = spam_messages.shape[0] / total_messages\n",
    "\n",
    "    p_ham = ham_messages.shape[0] / total_messages\n",
    "\n",
    "    spam_word_count = spam_messages.str.lower().str.split().apply(lambda x: word.lower() in x).sum()\n",
    "    p_w_given_spam = spam_word_count / spam_messages.shape[0] if spam_messages.shape[0] > 0 else 0\n",
    "\n",
    "\n",
    "    ham_word_count = ham_messages.str.lower().str.split().apply(lambda x: word.lower() in x).sum()\n",
    "    p_w_given_ham = ham_word_count / ham_messages.shape[0] if ham_messages.shape[0] > 0 else 0\n",
    "\n",
    "\n",
    "    if p_w_given_spam + p_w_given_ham == 0:\n",
    "        return 0, 1\n",
    "\n",
    "    p_spam_given_word = (p_w_given_spam * p_spam) / ((p_w_given_spam * p_spam) + (p_w_given_ham * p_ham))\n",
    "    p_ham_given_word = 1 - p_spam_given_word\n",
    "\n",
    "    return p_spam_given_word, p_ham_given_word\n",
    "\n",
    "\n",
    "word = \"money\"\n",
    "p_spam_given_word, p_ham_given_word = probabilidad_spam(grouped_df_final, word)\n",
    "\n",
    "print(\"Probabilidad de que el mensaje sea SPAM dado que contiene '':\", p_spam_given_word)\n",
    "print(\"Probabilidad de que el mensaje sea HAM dado que contiene '':\", p_ham_given_word)"
   ]
  },
  {
   "cell_type": "code",
   "execution_count": 135,
   "metadata": {},
   "outputs": [
    {
     "name": "stdout",
     "output_type": "stream",
     "text": [
      "['please', 'call', 'our', 'customer', 'service', 'representative', 'in', 'freephone', '0808', '145', '4742', 'between', '9am', '11pm']\n",
      "Probabilidad de que el mensaje sea SPAM dado que contiene las palabras: Sin datos suficientes\n",
      "Probabilidad de que el mensaje sea HAM dado que contiene las palabras: Sin datos suficientes\n"
     ]
    }
   ],
   "source": [
    "\n",
    "def tokenizar(texto):\n",
    "    return set(texto.lower().split())\n",
    "\n",
    "def calculate_probability_words(word_list, grouped_df):\n",
    "    spam_messages = grouped_df['spam'].dropna()\n",
    "    ham_messages = grouped_df['ham'].dropna()\n",
    "    total_spam_messages = spam_messages.shape[0]\n",
    "    total_ham_messages = ham_messages.shape[0]\n",
    "    p_words_spam = []\n",
    "    p_words_ham = []\n",
    "\n",
    "    for word in word_list:\n",
    "        # Buscar en mensajes SPAM y HAM\n",
    "        spam_word_count = spam_messages.str.lower().str.split().apply(lambda x: word.lower() in x).sum()\n",
    "        ham_word_count = ham_messages.str.lower().str.split().apply(lambda x: word.lower() in x).sum()\n",
    "\n",
    "        # Si la palabra no se encuentra en los mensajes de spam o ham, asumir que la probabilidad de que sea ham es 1\n",
    "        if spam_word_count == 0 and ham_word_count == 0:\n",
    "            p_word_ham = 1\n",
    "            p_word_spam = 0\n",
    "        else:\n",
    "            p_word_spam = spam_word_count / total_spam_messages if total_spam_messages > 0 else 0\n",
    "            p_word_ham = ham_word_count / total_ham_messages if total_ham_messages > 0 else 0\n",
    "\n",
    "        p_words_spam.append(p_word_spam)\n",
    "        p_words_ham.append(p_word_ham)\n",
    "\n",
    "    p_spam_given_words = np.prod(p_words_spam)\n",
    "    p_ham_given_words = np.prod(p_words_ham) \n",
    "\n",
    "    p_spam_given_words /= (p_spam_given_words + p_ham_given_words)\n",
    "    p_ham_given_words = 1 - p_spam_given_words\n",
    "\n",
    "    return p_spam_given_words, p_ham_given_words\n",
    "\n",
    "\n",
    "string_var = \"please call our customer service representative in freephone 0808 145 4742 between 9am 11pm\"\n",
    "\n",
    "word_list = string_var.split()\n",
    "print(word_list)\n",
    "\n",
    "p_spam_given_words, p_ham_given_words = calculate_probability_words(word_list, grouped_df_final)\n",
    "\n",
    "print(\"Probabilidad de que el mensaje sea SPAM dado que contiene las palabras:\", p_spam_given_words)\n",
    "print(\"Probabilidad de que el mensaje sea HAM dado que contiene las palabras:\", p_ham_given_words)"
   ]
  },
  {
   "cell_type": "code",
   "execution_count": 126,
   "metadata": {},
   "outputs": [
    {
     "name": "stdout",
     "output_type": "stream",
     "text": [
      "Matriz de Confusión:\n",
      "[[1577   10]\n",
      " [  27  225]]\n",
      "Informe de Clasificación:\n",
      "              precision    recall  f1-score   support\n",
      "\n",
      "         ham       0.98      0.99      0.99      1587\n",
      "        spam       0.96      0.89      0.92       252\n",
      "\n",
      "    accuracy                           0.98      1839\n",
      "   macro avg       0.97      0.94      0.96      1839\n",
      "weighted avg       0.98      0.98      0.98      1839\n",
      "\n"
     ]
    }
   ],
   "source": [
    "from sklearn.model_selection import train_test_split\n",
    "from sklearn.feature_extraction.text import CountVectorizer\n",
    "from sklearn.naive_bayes import MultinomialNB\n",
    "from sklearn.metrics import classification_report, confusion_matrix\n",
    "\n",
    "\n",
    "train_df, test_df = train_test_split(df, test_size=0.33, random_state=42)\n",
    "\n",
    "vectorizer = CountVectorizer()\n",
    "\n",
    "X_train = vectorizer.fit_transform(train_df['Message'])\n",
    "y_train = train_df['type']\n",
    "\n",
    "X_test = vectorizer.transform(test_df['Message'])\n",
    "y_test = test_df['type']\n",
    "\n",
    "model = MultinomialNB()\n",
    "model.fit(X_train, y_train)\n",
    "\n",
    "y_pred = model.predict(X_test)\n",
    "\n",
    "classification_rep = classification_report(y_test, y_pred, labels=[\"ham\", \"spam\"])\n",
    "\n",
    "conf_matrix = confusion_matrix(y_test, y_pred, labels=[\"ham\", \"spam\"])\n",
    "\n",
    "print(\"Matriz de Confusión:\")\n",
    "print(conf_matrix)\n",
    "\n",
    "print(\"Informe de Clasificación:\")\n",
    "print(classification_rep)"
   ]
  }
 ],
 "metadata": {
  "kernelspec": {
   "display_name": "Python 3",
   "language": "python",
   "name": "python3"
  },
  "language_info": {
   "codemirror_mode": {
    "name": "ipython",
    "version": 3
   },
   "file_extension": ".py",
   "mimetype": "text/x-python",
   "name": "python",
   "nbconvert_exporter": "python",
   "pygments_lexer": "ipython3",
   "version": "3.11.7"
  }
 },
 "nbformat": 4,
 "nbformat_minor": 2
}
